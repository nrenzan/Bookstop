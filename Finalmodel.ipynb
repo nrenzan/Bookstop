{
  "cells": [
    {
      "cell_type": "markdown",
      "metadata": {
        "id": "view-in-github",
        "colab_type": "text"
      },
      "source": [
        "<a href=\"https://colab.research.google.com/github/nrenzan/Bookstop/blob/main/Finalmodel.ipynb\" target=\"_parent\"><img src=\"https://colab.research.google.com/assets/colab-badge.svg\" alt=\"Open In Colab\"/></a>"
      ]
    },
    {
      "cell_type": "markdown",
      "id": "7d2051a6-855b-4cde-b72b-36bac4a307ed",
      "metadata": {
        "id": "7d2051a6-855b-4cde-b72b-36bac4a307ed"
      },
      "source": [
        "# Handwritten optical character recognition"
      ]
    },
    {
      "cell_type": "markdown",
      "id": "67c0c050-9fd8-45c5-a6ea-dacfd318af9d",
      "metadata": {
        "id": "67c0c050-9fd8-45c5-a6ea-dacfd318af9d"
      },
      "source": [
        "---\n",
        "\n",
        "Optical Character recognition (OCR) with RNN Encoder-Decoder model. <br>\n",
        "The character recognition model will be trained in the notebook and the model will be used in several apps (iOS/Android) <br>\n",
        "<br>\n",
        "**Steps:**\n",
        " * Imports and setups\n",
        " * Data loading and preprocessing\n",
        " * CTC setup\n",
        " * Model setup and training\n",
        " * Evaluation and analysis"
      ]
    },
    {
      "cell_type": "markdown",
      "id": "98350ea7-1fd1-4fb4-8aff-aad6fe9f390b",
      "metadata": {
        "id": "98350ea7-1fd1-4fb4-8aff-aad6fe9f390b"
      },
      "source": [
        "# Importing and setup\n",
        "This step contains importing all needed libraries and defining hyperparameters and variables."
      ]
    },
    {
      "cell_type": "code",
      "source": [
        "from google.colab import drive\n",
        "drive.mount('/content/drive')"
      ],
      "metadata": {
        "colab": {
          "base_uri": "https://localhost:8080/"
        },
        "id": "dNBaAv7-X6X3",
        "outputId": "3b025ccb-2f35-474d-e00b-1ea4496b75fa"
      },
      "id": "dNBaAv7-X6X3",
      "execution_count": 1,
      "outputs": [
        {
          "output_type": "stream",
          "name": "stdout",
          "text": [
            "Mounted at /content/drive\n"
          ]
        }
      ]
    },
    {
      "cell_type": "code",
      "source": [
        "!unzip /content/drive/MyDrive/DL/images.zip\n"
      ],
      "metadata": {
        "colab": {
          "base_uri": "https://localhost:8080/"
        },
        "id": "Gk2_VgyDYGig",
        "outputId": "bea3ab4a-eb2c-4e90-c754-7fda59b46fb0"
      },
      "id": "Gk2_VgyDYGig",
      "execution_count": null,
      "outputs": [
        {
          "output_type": "stream",
          "name": "stdout",
          "text": [
            "Archive:  /content/drive/MyDrive/DL/images.zip\n",
            "replace images/split.sh? [y]es, [n]o, [A]ll, [N]one, [r]ename: "
          ]
        }
      ]
    },
    {
      "cell_type": "code",
      "execution_count": 2,
      "id": "d627b3c8-dd12-4d81-b4ec-1af3b532c2d3",
      "metadata": {
        "id": "d627b3c8-dd12-4d81-b4ec-1af3b532c2d3"
      },
      "outputs": [],
      "source": [
        "# import all tensorflow related libraries\n",
        "import tensorflow as tf\n",
        "import tensorflow.data as tfd\n",
        "from tensorflow.keras.layers import *\n",
        "from tensorflow.keras.models import Model, load_model\n",
        "from tensorflow.keras.callbacks import EarlyStopping, ModelCheckpoint\n",
        "\n",
        "# import other libraries\n",
        "import os\n",
        "import numpy as np\n",
        "import pandas as pd\n",
        "from tqdm import tqdm\n",
        "from glob import glob\n",
        "import matplotlib.pyplot as plt\n",
        "import matplotlib.image as implt\n",
        "from IPython.display import clear_output as cls"
      ]
    },
    {
      "cell_type": "markdown",
      "id": "719fc76e-6926-4eba-94e6-76b92c265313",
      "metadata": {
        "id": "719fc76e-6926-4eba-94e6-76b92c265313"
      },
      "source": [
        "## Defining the necessary variables"
      ]
    },
    {
      "cell_type": "code",
      "execution_count": 5,
      "id": "63de58ea-6bb0-4a92-801c-88afdd617937",
      "metadata": {
        "id": "63de58ea-6bb0-4a92-801c-88afdd617937"
      },
      "outputs": [],
      "source": [
        "IMG_WIDTH = 200\n",
        "IMG_HEIGHT = 50\n",
        "IMG_SIZE = (IMG_WIDTH, IMG_HEIGHT)\n",
        "BATCH_SIZE = 8\n",
        "EPOCHS = 150\n",
        "LEARNING_RATE = 1e-3\n",
        "MODEL_NAME = \"CharacterRecognition-Model\"\n",
        "TRAIN_SIZE = BATCH_SIZE * 3000\n",
        "VALID_SIZE = BATCH_SIZE * 1500\n",
        "TEST_SIZE  = BATCH_SIZE * 300\n",
        "AUTOTUNE = tfd.AUTOTUNE\n",
        "\n",
        "# Training callbacks\n",
        "CALLBACKS = [\n",
        "    EarlyStopping(patience=10, restore_best_weights=True),\n",
        "    ModelCheckpoint(filepath=MODEL_NAME + \".h5\", save_best_only=True)\n",
        "]\n",
        "\n",
        "# Paths\n",
        "train_csv_path = '/content/train.csv'\n",
        "valid_csv_path = '/content/valid.csv'\n",
        "test_csv_path = '/content/test.csv'\n",
        "train_image_dir = '/content/drive/MyDrive/DL/images-final/images/train'\n",
        "valid_image_dir = '/content/drive/MyDrive/DL/images-final/images/validate'\n",
        "test_image_dir = '/content/drive/MyDrive/DL/images-final/images/test'\n",
        "\n",
        "# SetUp random seeds for numpy and TensorFlow\n",
        "np.random.seed(2569)\n",
        "tf.random.set_seed(2569)"
      ]
    },
    {
      "cell_type": "markdown",
      "id": "258d6a75-dfb5-4f4b-bc95-9486d2e47fe1",
      "metadata": {
        "id": "258d6a75-dfb5-4f4b-bc95-9486d2e47fe1"
      },
      "source": [
        "# Data loading and Preprocessing\n",
        "The datas are divided into 2 parts:\n",
        "* Labels and File paths\n",
        "* Images\n",
        "<br>\n",
        "There are some variables defined with `csv_path` at the end of their names. Those are the files that contain the **labels** and **file paths** for them. <br>\n",
        "The images are stored in the paths where their variables are defined with the ending of `image_dir`.\n",
        "\n",
        "---\n",
        "\n",
        "First the `.csv` files are loaded. After that the labels and their file paths get extracted. After that, the labels are processed and the images are loaded based on the file names of the labels. At the end the images also get preprocessed to be ready for getting feeded to the model."
      ]
    },
    {
      "cell_type": "code",
      "execution_count": 6,
      "id": "f96bc77f-6893-468a-88e4-8aa1ecbfd782",
      "metadata": {
        "id": "f96bc77f-6893-468a-88e4-8aa1ecbfd782"
      },
      "outputs": [],
      "source": [
        "# load the csv files\n",
        "train_csv = pd.read_csv(train_csv_path)[:TRAIN_SIZE]\n",
        "test_csv = pd.read_csv(test_csv_path)[:TEST_SIZE]\n",
        "valid_csv = pd.read_csv(valid_csv_path)[:VALID_SIZE]"
      ]
    },
    {
      "cell_type": "code",
      "execution_count": 7,
      "id": "d0c6ade8-0b33-46e0-a534-03687f50da7f",
      "metadata": {
        "colab": {
          "base_uri": "https://localhost:8080/",
          "height": 206
        },
        "id": "d0c6ade8-0b33-46e0-a534-03687f50da7f",
        "outputId": "63ddf98d-8a12-48d2-9c14-e8f3fc9442c8"
      },
      "outputs": [
        {
          "output_type": "execute_result",
          "data": {
            "text/plain": [
              "                           FILENAME                      IDENTITY\n",
              "0           Diethyl triptamin-2.png           Diethyl triptamin-2\n",
              "1               Phenmetrazine-5.png               Phenmetrazine-5\n",
              "2               Phenmetrazine-4.png               Phenmetrazine-4\n",
              "3                      Evogen-2.png                      Evogen-2\n",
              "4  Lycergic Acid Diethylamide-2.png  Lycergic Acid Diethylamide-2"
            ],
            "text/html": [
              "\n",
              "  <div id=\"df-d6f3e4ee-43af-47d0-96d6-e16f99c7f79c\" class=\"colab-df-container\">\n",
              "    <div>\n",
              "<style scoped>\n",
              "    .dataframe tbody tr th:only-of-type {\n",
              "        vertical-align: middle;\n",
              "    }\n",
              "\n",
              "    .dataframe tbody tr th {\n",
              "        vertical-align: top;\n",
              "    }\n",
              "\n",
              "    .dataframe thead th {\n",
              "        text-align: right;\n",
              "    }\n",
              "</style>\n",
              "<table border=\"1\" class=\"dataframe\">\n",
              "  <thead>\n",
              "    <tr style=\"text-align: right;\">\n",
              "      <th></th>\n",
              "      <th>FILENAME</th>\n",
              "      <th>IDENTITY</th>\n",
              "    </tr>\n",
              "  </thead>\n",
              "  <tbody>\n",
              "    <tr>\n",
              "      <th>0</th>\n",
              "      <td>Diethyl triptamin-2.png</td>\n",
              "      <td>Diethyl triptamin-2</td>\n",
              "    </tr>\n",
              "    <tr>\n",
              "      <th>1</th>\n",
              "      <td>Phenmetrazine-5.png</td>\n",
              "      <td>Phenmetrazine-5</td>\n",
              "    </tr>\n",
              "    <tr>\n",
              "      <th>2</th>\n",
              "      <td>Phenmetrazine-4.png</td>\n",
              "      <td>Phenmetrazine-4</td>\n",
              "    </tr>\n",
              "    <tr>\n",
              "      <th>3</th>\n",
              "      <td>Evogen-2.png</td>\n",
              "      <td>Evogen-2</td>\n",
              "    </tr>\n",
              "    <tr>\n",
              "      <th>4</th>\n",
              "      <td>Lycergic Acid Diethylamide-2.png</td>\n",
              "      <td>Lycergic Acid Diethylamide-2</td>\n",
              "    </tr>\n",
              "  </tbody>\n",
              "</table>\n",
              "</div>\n",
              "    <div class=\"colab-df-buttons\">\n",
              "\n",
              "  <div class=\"colab-df-container\">\n",
              "    <button class=\"colab-df-convert\" onclick=\"convertToInteractive('df-d6f3e4ee-43af-47d0-96d6-e16f99c7f79c')\"\n",
              "            title=\"Convert this dataframe to an interactive table.\"\n",
              "            style=\"display:none;\">\n",
              "\n",
              "  <svg xmlns=\"http://www.w3.org/2000/svg\" height=\"24px\" viewBox=\"0 -960 960 960\">\n",
              "    <path d=\"M120-120v-720h720v720H120Zm60-500h600v-160H180v160Zm220 220h160v-160H400v160Zm0 220h160v-160H400v160ZM180-400h160v-160H180v160Zm440 0h160v-160H620v160ZM180-180h160v-160H180v160Zm440 0h160v-160H620v160Z\"/>\n",
              "  </svg>\n",
              "    </button>\n",
              "\n",
              "  <style>\n",
              "    .colab-df-container {\n",
              "      display:flex;\n",
              "      gap: 12px;\n",
              "    }\n",
              "\n",
              "    .colab-df-convert {\n",
              "      background-color: #E8F0FE;\n",
              "      border: none;\n",
              "      border-radius: 50%;\n",
              "      cursor: pointer;\n",
              "      display: none;\n",
              "      fill: #1967D2;\n",
              "      height: 32px;\n",
              "      padding: 0 0 0 0;\n",
              "      width: 32px;\n",
              "    }\n",
              "\n",
              "    .colab-df-convert:hover {\n",
              "      background-color: #E2EBFA;\n",
              "      box-shadow: 0px 1px 2px rgba(60, 64, 67, 0.3), 0px 1px 3px 1px rgba(60, 64, 67, 0.15);\n",
              "      fill: #174EA6;\n",
              "    }\n",
              "\n",
              "    .colab-df-buttons div {\n",
              "      margin-bottom: 4px;\n",
              "    }\n",
              "\n",
              "    [theme=dark] .colab-df-convert {\n",
              "      background-color: #3B4455;\n",
              "      fill: #D2E3FC;\n",
              "    }\n",
              "\n",
              "    [theme=dark] .colab-df-convert:hover {\n",
              "      background-color: #434B5C;\n",
              "      box-shadow: 0px 1px 3px 1px rgba(0, 0, 0, 0.15);\n",
              "      filter: drop-shadow(0px 1px 2px rgba(0, 0, 0, 0.3));\n",
              "      fill: #FFFFFF;\n",
              "    }\n",
              "  </style>\n",
              "\n",
              "    <script>\n",
              "      const buttonEl =\n",
              "        document.querySelector('#df-d6f3e4ee-43af-47d0-96d6-e16f99c7f79c button.colab-df-convert');\n",
              "      buttonEl.style.display =\n",
              "        google.colab.kernel.accessAllowed ? 'block' : 'none';\n",
              "\n",
              "      async function convertToInteractive(key) {\n",
              "        const element = document.querySelector('#df-d6f3e4ee-43af-47d0-96d6-e16f99c7f79c');\n",
              "        const dataTable =\n",
              "          await google.colab.kernel.invokeFunction('convertToInteractive',\n",
              "                                                    [key], {});\n",
              "        if (!dataTable) return;\n",
              "\n",
              "        const docLinkHtml = 'Like what you see? Visit the ' +\n",
              "          '<a target=\"_blank\" href=https://colab.research.google.com/notebooks/data_table.ipynb>data table notebook</a>'\n",
              "          + ' to learn more about interactive tables.';\n",
              "        element.innerHTML = '';\n",
              "        dataTable['output_type'] = 'display_data';\n",
              "        await google.colab.output.renderOutput(dataTable, element);\n",
              "        const docLink = document.createElement('div');\n",
              "        docLink.innerHTML = docLinkHtml;\n",
              "        element.appendChild(docLink);\n",
              "      }\n",
              "    </script>\n",
              "  </div>\n",
              "\n",
              "\n",
              "<div id=\"df-be7f8267-52dc-4f95-9c81-22f3c69da4da\">\n",
              "  <button class=\"colab-df-quickchart\" onclick=\"quickchart('df-be7f8267-52dc-4f95-9c81-22f3c69da4da')\"\n",
              "            title=\"Suggest charts\"\n",
              "            style=\"display:none;\">\n",
              "\n",
              "<svg xmlns=\"http://www.w3.org/2000/svg\" height=\"24px\"viewBox=\"0 0 24 24\"\n",
              "     width=\"24px\">\n",
              "    <g>\n",
              "        <path d=\"M19 3H5c-1.1 0-2 .9-2 2v14c0 1.1.9 2 2 2h14c1.1 0 2-.9 2-2V5c0-1.1-.9-2-2-2zM9 17H7v-7h2v7zm4 0h-2V7h2v10zm4 0h-2v-4h2v4z\"/>\n",
              "    </g>\n",
              "</svg>\n",
              "  </button>\n",
              "\n",
              "<style>\n",
              "  .colab-df-quickchart {\n",
              "      --bg-color: #E8F0FE;\n",
              "      --fill-color: #1967D2;\n",
              "      --hover-bg-color: #E2EBFA;\n",
              "      --hover-fill-color: #174EA6;\n",
              "      --disabled-fill-color: #AAA;\n",
              "      --disabled-bg-color: #DDD;\n",
              "  }\n",
              "\n",
              "  [theme=dark] .colab-df-quickchart {\n",
              "      --bg-color: #3B4455;\n",
              "      --fill-color: #D2E3FC;\n",
              "      --hover-bg-color: #434B5C;\n",
              "      --hover-fill-color: #FFFFFF;\n",
              "      --disabled-bg-color: #3B4455;\n",
              "      --disabled-fill-color: #666;\n",
              "  }\n",
              "\n",
              "  .colab-df-quickchart {\n",
              "    background-color: var(--bg-color);\n",
              "    border: none;\n",
              "    border-radius: 50%;\n",
              "    cursor: pointer;\n",
              "    display: none;\n",
              "    fill: var(--fill-color);\n",
              "    height: 32px;\n",
              "    padding: 0;\n",
              "    width: 32px;\n",
              "  }\n",
              "\n",
              "  .colab-df-quickchart:hover {\n",
              "    background-color: var(--hover-bg-color);\n",
              "    box-shadow: 0 1px 2px rgba(60, 64, 67, 0.3), 0 1px 3px 1px rgba(60, 64, 67, 0.15);\n",
              "    fill: var(--button-hover-fill-color);\n",
              "  }\n",
              "\n",
              "  .colab-df-quickchart-complete:disabled,\n",
              "  .colab-df-quickchart-complete:disabled:hover {\n",
              "    background-color: var(--disabled-bg-color);\n",
              "    fill: var(--disabled-fill-color);\n",
              "    box-shadow: none;\n",
              "  }\n",
              "\n",
              "  .colab-df-spinner {\n",
              "    border: 2px solid var(--fill-color);\n",
              "    border-color: transparent;\n",
              "    border-bottom-color: var(--fill-color);\n",
              "    animation:\n",
              "      spin 1s steps(1) infinite;\n",
              "  }\n",
              "\n",
              "  @keyframes spin {\n",
              "    0% {\n",
              "      border-color: transparent;\n",
              "      border-bottom-color: var(--fill-color);\n",
              "      border-left-color: var(--fill-color);\n",
              "    }\n",
              "    20% {\n",
              "      border-color: transparent;\n",
              "      border-left-color: var(--fill-color);\n",
              "      border-top-color: var(--fill-color);\n",
              "    }\n",
              "    30% {\n",
              "      border-color: transparent;\n",
              "      border-left-color: var(--fill-color);\n",
              "      border-top-color: var(--fill-color);\n",
              "      border-right-color: var(--fill-color);\n",
              "    }\n",
              "    40% {\n",
              "      border-color: transparent;\n",
              "      border-right-color: var(--fill-color);\n",
              "      border-top-color: var(--fill-color);\n",
              "    }\n",
              "    60% {\n",
              "      border-color: transparent;\n",
              "      border-right-color: var(--fill-color);\n",
              "    }\n",
              "    80% {\n",
              "      border-color: transparent;\n",
              "      border-right-color: var(--fill-color);\n",
              "      border-bottom-color: var(--fill-color);\n",
              "    }\n",
              "    90% {\n",
              "      border-color: transparent;\n",
              "      border-bottom-color: var(--fill-color);\n",
              "    }\n",
              "  }\n",
              "</style>\n",
              "\n",
              "  <script>\n",
              "    async function quickchart(key) {\n",
              "      const quickchartButtonEl =\n",
              "        document.querySelector('#' + key + ' button');\n",
              "      quickchartButtonEl.disabled = true;  // To prevent multiple clicks.\n",
              "      quickchartButtonEl.classList.add('colab-df-spinner');\n",
              "      try {\n",
              "        const charts = await google.colab.kernel.invokeFunction(\n",
              "            'suggestCharts', [key], {});\n",
              "      } catch (error) {\n",
              "        console.error('Error during call to suggestCharts:', error);\n",
              "      }\n",
              "      quickchartButtonEl.classList.remove('colab-df-spinner');\n",
              "      quickchartButtonEl.classList.add('colab-df-quickchart-complete');\n",
              "    }\n",
              "    (() => {\n",
              "      let quickchartButtonEl =\n",
              "        document.querySelector('#df-be7f8267-52dc-4f95-9c81-22f3c69da4da button');\n",
              "      quickchartButtonEl.style.display =\n",
              "        google.colab.kernel.accessAllowed ? 'block' : 'none';\n",
              "    })();\n",
              "  </script>\n",
              "</div>\n",
              "    </div>\n",
              "  </div>\n"
            ]
          },
          "metadata": {},
          "execution_count": 7
        }
      ],
      "source": [
        "train_csv.head()"
      ]
    },
    {
      "cell_type": "markdown",
      "id": "baf158ff-ee9b-4c12-bf4e-194f88564d53",
      "metadata": {
        "id": "baf158ff-ee9b-4c12-bf4e-194f88564d53"
      },
      "source": [
        "### Load the train labels\n",
        "The labels will target the images. They basically attach a class to each image. <br>\n",
        "As mentioned before, the labels are in the `.csv` files in the column named `IDENTITY`. <br>"
      ]
    },
    {
      "cell_type": "code",
      "execution_count": 8,
      "id": "0978f84f-9c50-4388-afe1-f8fbf67fbc6f",
      "metadata": {
        "id": "0978f84f-9c50-4388-afe1-f8fbf67fbc6f"
      },
      "outputs": [],
      "source": [
        "# get the train labels\n",
        "train_labels = [str(word) for word in train_csv[\"IDENTITY\"].to_numpy()]"
      ]
    },
    {
      "cell_type": "code",
      "execution_count": 9,
      "id": "c404f46f-a84c-4c2a-bc75-f72ef5540254",
      "metadata": {
        "id": "c404f46f-a84c-4c2a-bc75-f72ef5540254"
      },
      "outputs": [],
      "source": [
        "# extract all the unique characters\n",
        "unique_characters = set(char for word in train_labels for char in word)\n",
        "# define the number of classes (for labels) based on the number of unique characters\n",
        "n_classes = len(unique_characters)"
      ]
    },
    {
      "cell_type": "code",
      "execution_count": 10,
      "id": "04b3ad26-766c-40be-a872-90abe61ee7e0",
      "metadata": {
        "colab": {
          "base_uri": "https://localhost:8080/"
        },
        "id": "04b3ad26-766c-40be-a872-90abe61ee7e0",
        "outputId": "3fcb4bf9-b454-4335-973b-d46bab6411d2"
      },
      "outputs": [
        {
          "output_type": "stream",
          "name": "stdout",
          "text": [
            "Number of unique classes(unique characters): 66\n"
          ]
        }
      ],
      "source": [
        "print(f\"Number of unique classes(unique characters): {n_classes}\")"
      ]
    },
    {
      "cell_type": "code",
      "execution_count": 11,
      "id": "c5a5d108-ec6f-43ca-9be7-b7d529b538d7",
      "metadata": {
        "id": "c5a5d108-ec6f-43ca-9be7-b7d529b538d7"
      },
      "outputs": [],
      "source": [
        "# get the maximum length that a label can have\n",
        "MAX_LABEL_LENGTH = max(map(len, train_labels))"
      ]
    },
    {
      "cell_type": "code",
      "execution_count": 12,
      "id": "a4fa59bd-1373-4f70-b18a-7e6b5b857a6b",
      "metadata": {
        "colab": {
          "base_uri": "https://localhost:8080/"
        },
        "id": "a4fa59bd-1373-4f70-b18a-7e6b5b857a6b",
        "outputId": "0f3a88ee-0ff9-4533-a92f-02db4fe8dbb7"
      },
      "outputs": [
        {
          "output_type": "stream",
          "name": "stdout",
          "text": [
            "The length of the longest label in the datase: 49\n"
          ]
        }
      ],
      "source": [
        "print(f\"The length of the longest label in the datase: {MAX_LABEL_LENGTH}\")"
      ]
    },
    {
      "cell_type": "markdown",
      "id": "dff32ab6-f397-45d9-b245-dfc9de593ceb",
      "metadata": {
        "id": "dff32ab6-f397-45d9-b245-dfc9de593ceb"
      },
      "source": [
        "### Load the images paths\n",
        "In the `.csv` files, there paths for the images related to each label. However, there are only the names of the images. So, they have to preprocessed and the path of them must also be added to them. This step is crucial for loading images."
      ]
    },
    {
      "cell_type": "code",
      "execution_count": 13,
      "id": "f847bd08-fd14-44ba-ba24-282014a529c6",
      "metadata": {
        "id": "f847bd08-fd14-44ba-ba24-282014a529c6"
      },
      "outputs": [],
      "source": [
        "train_csv['FILENAME'] = [train_image_dir + f\"/{filename}\" for filename in train_csv['FILENAME']]\n",
        "valid_csv['FILENAME'] = [valid_image_dir + f\"/{filename}\" for filename in valid_csv['FILENAME']]\n",
        "test_csv['FILENAME']  = [test_image_dir + f\"/{filename}\" for filename in test_csv['FILENAME']]"
      ]
    },
    {
      "cell_type": "code",
      "execution_count": 14,
      "id": "26eb5bee-57e8-415b-962b-451d93546be7",
      "metadata": {
        "colab": {
          "base_uri": "https://localhost:8080/",
          "height": 206
        },
        "id": "26eb5bee-57e8-415b-962b-451d93546be7",
        "outputId": "a06e5c9d-fa37-4c47-82e1-7cbf96eda739"
      },
      "outputs": [
        {
          "output_type": "execute_result",
          "data": {
            "text/plain": [
              "                                            FILENAME  \\\n",
              "0  /content/drive/MyDrive/DL/images-final/images/...   \n",
              "1  /content/drive/MyDrive/DL/images-final/images/...   \n",
              "2  /content/drive/MyDrive/DL/images-final/images/...   \n",
              "3  /content/drive/MyDrive/DL/images-final/images/...   \n",
              "4  /content/drive/MyDrive/DL/images-final/images/...   \n",
              "\n",
              "                       IDENTITY  \n",
              "0           Diethyl triptamin-2  \n",
              "1               Phenmetrazine-5  \n",
              "2               Phenmetrazine-4  \n",
              "3                      Evogen-2  \n",
              "4  Lycergic Acid Diethylamide-2  "
            ],
            "text/html": [
              "\n",
              "  <div id=\"df-befe8cb0-5460-4b28-80a4-ceca474f03dd\" class=\"colab-df-container\">\n",
              "    <div>\n",
              "<style scoped>\n",
              "    .dataframe tbody tr th:only-of-type {\n",
              "        vertical-align: middle;\n",
              "    }\n",
              "\n",
              "    .dataframe tbody tr th {\n",
              "        vertical-align: top;\n",
              "    }\n",
              "\n",
              "    .dataframe thead th {\n",
              "        text-align: right;\n",
              "    }\n",
              "</style>\n",
              "<table border=\"1\" class=\"dataframe\">\n",
              "  <thead>\n",
              "    <tr style=\"text-align: right;\">\n",
              "      <th></th>\n",
              "      <th>FILENAME</th>\n",
              "      <th>IDENTITY</th>\n",
              "    </tr>\n",
              "  </thead>\n",
              "  <tbody>\n",
              "    <tr>\n",
              "      <th>0</th>\n",
              "      <td>/content/drive/MyDrive/DL/images-final/images/...</td>\n",
              "      <td>Diethyl triptamin-2</td>\n",
              "    </tr>\n",
              "    <tr>\n",
              "      <th>1</th>\n",
              "      <td>/content/drive/MyDrive/DL/images-final/images/...</td>\n",
              "      <td>Phenmetrazine-5</td>\n",
              "    </tr>\n",
              "    <tr>\n",
              "      <th>2</th>\n",
              "      <td>/content/drive/MyDrive/DL/images-final/images/...</td>\n",
              "      <td>Phenmetrazine-4</td>\n",
              "    </tr>\n",
              "    <tr>\n",
              "      <th>3</th>\n",
              "      <td>/content/drive/MyDrive/DL/images-final/images/...</td>\n",
              "      <td>Evogen-2</td>\n",
              "    </tr>\n",
              "    <tr>\n",
              "      <th>4</th>\n",
              "      <td>/content/drive/MyDrive/DL/images-final/images/...</td>\n",
              "      <td>Lycergic Acid Diethylamide-2</td>\n",
              "    </tr>\n",
              "  </tbody>\n",
              "</table>\n",
              "</div>\n",
              "    <div class=\"colab-df-buttons\">\n",
              "\n",
              "  <div class=\"colab-df-container\">\n",
              "    <button class=\"colab-df-convert\" onclick=\"convertToInteractive('df-befe8cb0-5460-4b28-80a4-ceca474f03dd')\"\n",
              "            title=\"Convert this dataframe to an interactive table.\"\n",
              "            style=\"display:none;\">\n",
              "\n",
              "  <svg xmlns=\"http://www.w3.org/2000/svg\" height=\"24px\" viewBox=\"0 -960 960 960\">\n",
              "    <path d=\"M120-120v-720h720v720H120Zm60-500h600v-160H180v160Zm220 220h160v-160H400v160Zm0 220h160v-160H400v160ZM180-400h160v-160H180v160Zm440 0h160v-160H620v160ZM180-180h160v-160H180v160Zm440 0h160v-160H620v160Z\"/>\n",
              "  </svg>\n",
              "    </button>\n",
              "\n",
              "  <style>\n",
              "    .colab-df-container {\n",
              "      display:flex;\n",
              "      gap: 12px;\n",
              "    }\n",
              "\n",
              "    .colab-df-convert {\n",
              "      background-color: #E8F0FE;\n",
              "      border: none;\n",
              "      border-radius: 50%;\n",
              "      cursor: pointer;\n",
              "      display: none;\n",
              "      fill: #1967D2;\n",
              "      height: 32px;\n",
              "      padding: 0 0 0 0;\n",
              "      width: 32px;\n",
              "    }\n",
              "\n",
              "    .colab-df-convert:hover {\n",
              "      background-color: #E2EBFA;\n",
              "      box-shadow: 0px 1px 2px rgba(60, 64, 67, 0.3), 0px 1px 3px 1px rgba(60, 64, 67, 0.15);\n",
              "      fill: #174EA6;\n",
              "    }\n",
              "\n",
              "    .colab-df-buttons div {\n",
              "      margin-bottom: 4px;\n",
              "    }\n",
              "\n",
              "    [theme=dark] .colab-df-convert {\n",
              "      background-color: #3B4455;\n",
              "      fill: #D2E3FC;\n",
              "    }\n",
              "\n",
              "    [theme=dark] .colab-df-convert:hover {\n",
              "      background-color: #434B5C;\n",
              "      box-shadow: 0px 1px 3px 1px rgba(0, 0, 0, 0.15);\n",
              "      filter: drop-shadow(0px 1px 2px rgba(0, 0, 0, 0.3));\n",
              "      fill: #FFFFFF;\n",
              "    }\n",
              "  </style>\n",
              "\n",
              "    <script>\n",
              "      const buttonEl =\n",
              "        document.querySelector('#df-befe8cb0-5460-4b28-80a4-ceca474f03dd button.colab-df-convert');\n",
              "      buttonEl.style.display =\n",
              "        google.colab.kernel.accessAllowed ? 'block' : 'none';\n",
              "\n",
              "      async function convertToInteractive(key) {\n",
              "        const element = document.querySelector('#df-befe8cb0-5460-4b28-80a4-ceca474f03dd');\n",
              "        const dataTable =\n",
              "          await google.colab.kernel.invokeFunction('convertToInteractive',\n",
              "                                                    [key], {});\n",
              "        if (!dataTable) return;\n",
              "\n",
              "        const docLinkHtml = 'Like what you see? Visit the ' +\n",
              "          '<a target=\"_blank\" href=https://colab.research.google.com/notebooks/data_table.ipynb>data table notebook</a>'\n",
              "          + ' to learn more about interactive tables.';\n",
              "        element.innerHTML = '';\n",
              "        dataTable['output_type'] = 'display_data';\n",
              "        await google.colab.output.renderOutput(dataTable, element);\n",
              "        const docLink = document.createElement('div');\n",
              "        docLink.innerHTML = docLinkHtml;\n",
              "        element.appendChild(docLink);\n",
              "      }\n",
              "    </script>\n",
              "  </div>\n",
              "\n",
              "\n",
              "<div id=\"df-09b0912a-2a21-4632-b7b3-33eb1dfc1298\">\n",
              "  <button class=\"colab-df-quickchart\" onclick=\"quickchart('df-09b0912a-2a21-4632-b7b3-33eb1dfc1298')\"\n",
              "            title=\"Suggest charts\"\n",
              "            style=\"display:none;\">\n",
              "\n",
              "<svg xmlns=\"http://www.w3.org/2000/svg\" height=\"24px\"viewBox=\"0 0 24 24\"\n",
              "     width=\"24px\">\n",
              "    <g>\n",
              "        <path d=\"M19 3H5c-1.1 0-2 .9-2 2v14c0 1.1.9 2 2 2h14c1.1 0 2-.9 2-2V5c0-1.1-.9-2-2-2zM9 17H7v-7h2v7zm4 0h-2V7h2v10zm4 0h-2v-4h2v4z\"/>\n",
              "    </g>\n",
              "</svg>\n",
              "  </button>\n",
              "\n",
              "<style>\n",
              "  .colab-df-quickchart {\n",
              "      --bg-color: #E8F0FE;\n",
              "      --fill-color: #1967D2;\n",
              "      --hover-bg-color: #E2EBFA;\n",
              "      --hover-fill-color: #174EA6;\n",
              "      --disabled-fill-color: #AAA;\n",
              "      --disabled-bg-color: #DDD;\n",
              "  }\n",
              "\n",
              "  [theme=dark] .colab-df-quickchart {\n",
              "      --bg-color: #3B4455;\n",
              "      --fill-color: #D2E3FC;\n",
              "      --hover-bg-color: #434B5C;\n",
              "      --hover-fill-color: #FFFFFF;\n",
              "      --disabled-bg-color: #3B4455;\n",
              "      --disabled-fill-color: #666;\n",
              "  }\n",
              "\n",
              "  .colab-df-quickchart {\n",
              "    background-color: var(--bg-color);\n",
              "    border: none;\n",
              "    border-radius: 50%;\n",
              "    cursor: pointer;\n",
              "    display: none;\n",
              "    fill: var(--fill-color);\n",
              "    height: 32px;\n",
              "    padding: 0;\n",
              "    width: 32px;\n",
              "  }\n",
              "\n",
              "  .colab-df-quickchart:hover {\n",
              "    background-color: var(--hover-bg-color);\n",
              "    box-shadow: 0 1px 2px rgba(60, 64, 67, 0.3), 0 1px 3px 1px rgba(60, 64, 67, 0.15);\n",
              "    fill: var(--button-hover-fill-color);\n",
              "  }\n",
              "\n",
              "  .colab-df-quickchart-complete:disabled,\n",
              "  .colab-df-quickchart-complete:disabled:hover {\n",
              "    background-color: var(--disabled-bg-color);\n",
              "    fill: var(--disabled-fill-color);\n",
              "    box-shadow: none;\n",
              "  }\n",
              "\n",
              "  .colab-df-spinner {\n",
              "    border: 2px solid var(--fill-color);\n",
              "    border-color: transparent;\n",
              "    border-bottom-color: var(--fill-color);\n",
              "    animation:\n",
              "      spin 1s steps(1) infinite;\n",
              "  }\n",
              "\n",
              "  @keyframes spin {\n",
              "    0% {\n",
              "      border-color: transparent;\n",
              "      border-bottom-color: var(--fill-color);\n",
              "      border-left-color: var(--fill-color);\n",
              "    }\n",
              "    20% {\n",
              "      border-color: transparent;\n",
              "      border-left-color: var(--fill-color);\n",
              "      border-top-color: var(--fill-color);\n",
              "    }\n",
              "    30% {\n",
              "      border-color: transparent;\n",
              "      border-left-color: var(--fill-color);\n",
              "      border-top-color: var(--fill-color);\n",
              "      border-right-color: var(--fill-color);\n",
              "    }\n",
              "    40% {\n",
              "      border-color: transparent;\n",
              "      border-right-color: var(--fill-color);\n",
              "      border-top-color: var(--fill-color);\n",
              "    }\n",
              "    60% {\n",
              "      border-color: transparent;\n",
              "      border-right-color: var(--fill-color);\n",
              "    }\n",
              "    80% {\n",
              "      border-color: transparent;\n",
              "      border-right-color: var(--fill-color);\n",
              "      border-bottom-color: var(--fill-color);\n",
              "    }\n",
              "    90% {\n",
              "      border-color: transparent;\n",
              "      border-bottom-color: var(--fill-color);\n",
              "    }\n",
              "  }\n",
              "</style>\n",
              "\n",
              "  <script>\n",
              "    async function quickchart(key) {\n",
              "      const quickchartButtonEl =\n",
              "        document.querySelector('#' + key + ' button');\n",
              "      quickchartButtonEl.disabled = true;  // To prevent multiple clicks.\n",
              "      quickchartButtonEl.classList.add('colab-df-spinner');\n",
              "      try {\n",
              "        const charts = await google.colab.kernel.invokeFunction(\n",
              "            'suggestCharts', [key], {});\n",
              "      } catch (error) {\n",
              "        console.error('Error during call to suggestCharts:', error);\n",
              "      }\n",
              "      quickchartButtonEl.classList.remove('colab-df-spinner');\n",
              "      quickchartButtonEl.classList.add('colab-df-quickchart-complete');\n",
              "    }\n",
              "    (() => {\n",
              "      let quickchartButtonEl =\n",
              "        document.querySelector('#df-09b0912a-2a21-4632-b7b3-33eb1dfc1298 button');\n",
              "      quickchartButtonEl.style.display =\n",
              "        google.colab.kernel.accessAllowed ? 'block' : 'none';\n",
              "    })();\n",
              "  </script>\n",
              "</div>\n",
              "    </div>\n",
              "  </div>\n"
            ]
          },
          "metadata": {},
          "execution_count": 14
        }
      ],
      "source": [
        "train_csv.head()"
      ]
    },
    {
      "cell_type": "markdown",
      "id": "2b008e48-bc08-4133-ba5b-4aff372fcca5",
      "metadata": {
        "id": "2b008e48-bc08-4133-ba5b-4aff372fcca5"
      },
      "source": [
        "## Label preprocessing\n",
        "2 Dictionaries must be created. One for mapping characters to numerical values and one for mapping numerical values to characters"
      ]
    },
    {
      "cell_type": "code",
      "source": [],
      "metadata": {
        "id": "HCw46KGJnwsF"
      },
      "id": "HCw46KGJnwsF",
      "execution_count": 14,
      "outputs": []
    },
    {
      "cell_type": "code",
      "execution_count": 15,
      "id": "aefc49b5-2533-4110-8c4c-12079b7eb7e9",
      "metadata": {
        "id": "aefc49b5-2533-4110-8c4c-12079b7eb7e9"
      },
      "outputs": [],
      "source": [
        "# Char to Num\n",
        "char_to_num = StringLookup(vocabulary=list(unique_characters), mask_token=None)\n",
        "num_to_char = StringLookup(vocabulary = char_to_num.get_vocabulary(), mask_token = None, invert = True)"
      ]
    },
    {
      "cell_type": "code",
      "execution_count": 16,
      "id": "462f37b2-5e99-47e9-88c1-10ada53d8b8b",
      "metadata": {
        "colab": {
          "base_uri": "https://localhost:8080/"
        },
        "id": "462f37b2-5e99-47e9-88c1-10ada53d8b8b",
        "outputId": "c848095c-77c0-4be0-d954-2654e5f2851e"
      },
      "outputs": [
        {
          "output_type": "execute_result",
          "data": {
            "text/plain": [
              "68"
            ]
          },
          "metadata": {},
          "execution_count": 16
        }
      ],
      "source": [
        "len(char_to_num.get_vocabulary())+1"
      ]
    },
    {
      "cell_type": "markdown",
      "id": "6a7d621c-6b69-47d7-9532-04d1dbfcf1ec",
      "metadata": {
        "id": "6a7d621c-6b69-47d7-9532-04d1dbfcf1ec"
      },
      "source": [
        "## Image preprocessing\n",
        "**To Function must be used for image preprocessing part:** <br>\n",
        "The first function is `load_image`. This function loads the images and returns the image as an `numpy` array. <br>\n",
        "The second function is used for both images and labels. It gets the data and returns the encoded versions of them."
      ]
    },
    {
      "cell_type": "code",
      "execution_count": 17,
      "id": "8686e8c4-5ab9-4178-abf7-ae17842bd720",
      "metadata": {
        "id": "8686e8c4-5ab9-4178-abf7-ae17842bd720"
      },
      "outputs": [],
      "source": [
        "def load_image(image_path):\n",
        "    \"\"\"\n",
        "    This function gets the image path and\n",
        "    reads the image using TensorFlow, Then the image will be decoded and\n",
        "    will be converted to float data type. next resize and transpose will be applied to it.\n",
        "    In the final step the image will be converted to a Numpy Array using tf.cast\n",
        "    \"\"\"\n",
        "    # read the image\n",
        "    image = tf.io.read_file(image_path)\n",
        "    # decode the image\n",
        "    decoded_image = tf.image.decode_jpeg(contents=image, channels=1)\n",
        "    # convert image data type to float32\n",
        "    convert_imgs = tf.image.convert_image_dtype(image=decoded_image, dtype=tf.float32)\n",
        "    # resize and transpose\n",
        "    resized_image = tf.image.resize(images=convert_imgs, size=(IMG_HEIGHT, IMG_WIDTH))\n",
        "    image = tf.transpose(resized_image, perm = [1, 0, 2])\n",
        "\n",
        "    # to numpy array (Tensor)\n",
        "    image_array = tf.cast(image, dtype=tf.float32)\n",
        "\n",
        "    return image_array"
      ]
    },
    {
      "cell_type": "code",
      "execution_count": 18,
      "id": "cf9ca9bf-196c-42db-af75-ad3e11b0d64b",
      "metadata": {
        "id": "cf9ca9bf-196c-42db-af75-ad3e11b0d64b"
      },
      "outputs": [],
      "source": [
        "def encode_single_sample(image_path, label:str):\n",
        "\n",
        "    '''\n",
        "    The function takes an image path and label as input and returns a dictionary containing the processed image tensor and the label tensor.\n",
        "    First, it loads the image using the load_image function, which decodes and resizes the image to a specific size. Then it converts the given\n",
        "    label string into a sequence of Unicode characters using the unicode_split function. Next, it uses the char_to_num layer to convert each\n",
        "    character in the label to a numerical representation. It pads the numerical representation with a special class (n_classes)\n",
        "    to ensure that all labels have the same length (MAX_LABEL_LENGTH). Finally, it returns a dictionary containing the processed image tensor\n",
        "    and the label tensor.\n",
        "\n",
        "    '''\n",
        "\n",
        "    # Get the image\n",
        "    image = load_image(image_path)\n",
        "    # Convert the label into characters\n",
        "    chars = tf.strings.unicode_split(label, input_encoding='UTF-8')\n",
        "    # Convert the characters into vectors\n",
        "    vecs = char_to_num(chars)\n",
        "\n",
        "    # Pad label\n",
        "    pad_size = MAX_LABEL_LENGTH - tf.shape(vecs)[0]\n",
        "    vecs = tf.pad(vecs, paddings = [[0, pad_size]], constant_values=n_classes+1)\n",
        "\n",
        "    return {'image':image, 'label':vecs}"
      ]
    },
    {
      "cell_type": "code",
      "execution_count": 19,
      "id": "ca90d459-a692-4f16-9160-bb5fbc5d07b2",
      "metadata": {
        "id": "ca90d459-a692-4f16-9160-bb5fbc5d07b2"
      },
      "outputs": [],
      "source": [
        "# Training Data\n",
        "train_ds = tf.data.Dataset.from_tensor_slices(\n",
        "    (np.array(train_csv['FILENAME'].to_list()), np.array(train_csv['IDENTITY'].to_list()))\n",
        ").shuffle(1000).map(encode_single_sample, num_parallel_calls=AUTOTUNE).batch(BATCH_SIZE).prefetch(AUTOTUNE)\n",
        "\n",
        "# Validation data\n",
        "valid_ds = tf.data.Dataset.from_tensor_slices(\n",
        "    (np.array(valid_csv['FILENAME'].to_list()), np.array(valid_csv['IDENTITY'].to_list()))\n",
        ").map(encode_single_sample, num_parallel_calls=AUTOTUNE).batch(BATCH_SIZE).prefetch(AUTOTUNE)\n",
        "\n",
        "# Testing data.\n",
        "test_ds = tf.data.Dataset.from_tensor_slices(\n",
        "    (np.array(test_csv['FILENAME'].to_list()), np.array(test_csv['IDENTITY'].to_list()))\n",
        ").map(encode_single_sample, num_parallel_calls=AUTOTUNE).batch(BATCH_SIZE).prefetch(AUTOTUNE)"
      ]
    },
    {
      "cell_type": "code",
      "execution_count": 20,
      "id": "cef98308-8cd7-41bb-98cd-f020f734d7d8",
      "metadata": {
        "colab": {
          "base_uri": "https://localhost:8080/"
        },
        "id": "cef98308-8cd7-41bb-98cd-f020f734d7d8",
        "outputId": "dbfddf47-bd67-40bf-9ec6-7c1a950e0d19"
      },
      "outputs": [
        {
          "output_type": "stream",
          "name": "stdout",
          "text": [
            "Training Data Size   : 2176\n",
            "Validation Data Size : 200\n",
            "Testing Data Size    : 480\n"
          ]
        }
      ],
      "source": [
        "# check the data distribution\n",
        "print(f\"Training Data Size   : {tf.data.Dataset.cardinality(train_ds).numpy() * BATCH_SIZE}\")\n",
        "print(f\"Validation Data Size : {tf.data.Dataset.cardinality(valid_ds).numpy() * BATCH_SIZE}\")\n",
        "print(f\"Testing Data Size    : {tf.data.Dataset.cardinality(test_ds).numpy() * BATCH_SIZE}\")"
      ]
    },
    {
      "cell_type": "markdown",
      "id": "9cbb1f80-1af9-48d8-8c42-0b5712ebabc8",
      "metadata": {
        "id": "9cbb1f80-1af9-48d8-8c42-0b5712ebabc8"
      },
      "source": [
        "### Explore the dataset\n",
        "See some images"
      ]
    },
    {
      "cell_type": "code",
      "execution_count": 21,
      "id": "535edd28-512b-4f87-9c73-01d7211ad077",
      "metadata": {
        "id": "535edd28-512b-4f87-9c73-01d7211ad077"
      },
      "outputs": [],
      "source": [
        "def show_images(data, GRID=[4,4], FIGSIZE=(25, 8), cmap='binary_r', model=None, decode_pred=None):\n",
        "\n",
        "    # Plotting configurations\n",
        "    plt.figure(figsize=FIGSIZE)\n",
        "    n_rows, n_cols = GRID\n",
        "\n",
        "    # Loading Data\n",
        "    data = next(iter(data))\n",
        "    images, labels = data['image'], data['label']\n",
        "\n",
        "    # Iterate over the data\n",
        "    for index, (image, label) in enumerate(zip(images, labels)):\n",
        "\n",
        "        # Label processing\n",
        "        text_label = num_to_char(label)\n",
        "        text_label = tf.strings.reduce_join(text_label).numpy().decode('UTF-8')\n",
        "        text_label = text_label.replace(\"[UNK]\", \" \").strip()\n",
        "\n",
        "        # Create a sub plot\n",
        "        plt.subplot(n_rows, n_cols, index+1)\n",
        "        plt.imshow(tf.transpose(image, perm=[1,0,2]), cmap=cmap)\n",
        "        plt.axis('off')\n",
        "\n",
        "        if model is not None and decode_pred is not None:\n",
        "            # Make prediction\n",
        "            pred = model.predict(tf.expand_dims(image, axis=0))\n",
        "            pred = decode_pred(pred)[0]\n",
        "            title = f\"True : {text_label}\\nPred : {pred}\"\n",
        "            plt.title(title)\n",
        "        else:\n",
        "            # add title\n",
        "            plt.title(text_label)\n",
        "\n",
        "    # Show the final plot\n",
        "    cls()\n",
        "    plt.show()"
      ]
    },
    {
      "cell_type": "code",
      "execution_count": 22,
      "id": "5181bf4b-575d-4546-a113-fb2d4e41b6a7",
      "metadata": {
        "id": "5181bf4b-575d-4546-a113-fb2d4e41b6a7"
      },
      "outputs": [],
      "source": [
        "# train=pd.read_csv(\"/content/train.csv\")"
      ]
    },
    {
      "cell_type": "code",
      "source": [
        "# train.head()"
      ],
      "metadata": {
        "id": "dRRiUzXMgkav"
      },
      "id": "dRRiUzXMgkav",
      "execution_count": 23,
      "outputs": []
    },
    {
      "cell_type": "code",
      "source": [
        "# train.shape"
      ],
      "metadata": {
        "id": "oV0VLmgRio_P"
      },
      "id": "oV0VLmgRio_P",
      "execution_count": 24,
      "outputs": []
    },
    {
      "cell_type": "code",
      "source": [
        "# for i in range(1,5):\n",
        "  # df = train[~train['FILENAME'].str.contains(f'Hermons _–-{i}.png')]\n"
      ],
      "metadata": {
        "id": "EjFMHLnygoXR"
      },
      "id": "EjFMHLnygoXR",
      "execution_count": 25,
      "outputs": []
    },
    {
      "cell_type": "code",
      "source": [
        "# df.shape"
      ],
      "metadata": {
        "id": "BVabohcEi2ET"
      },
      "id": "BVabohcEi2ET",
      "execution_count": 26,
      "outputs": []
    },
    {
      "cell_type": "code",
      "source": [
        "# df.sum()"
      ],
      "metadata": {
        "id": "a85cLZvwg3wO"
      },
      "id": "a85cLZvwg3wO",
      "execution_count": 27,
      "outputs": []
    },
    {
      "cell_type": "markdown",
      "id": "86060230-2ee2-4545-9fbb-93fdb6ae96d3",
      "metadata": {
        "id": "86060230-2ee2-4545-9fbb-93fdb6ae96d3"
      },
      "source": [
        "# Neural Net Model and Training\n",
        "The data has been readeed and preprocessed and everything is *go* for model training. <br>\n",
        "\n",
        "---\n",
        "\n",
        "**There are 4 main sections in the model training part:**\n",
        "* CTC Loss (more explaination in its dedicated section)\n",
        "* Model Creation\n",
        "* Training\n",
        "* Testing and evaluation"
      ]
    },
    {
      "cell_type": "markdown",
      "id": "4e9a88ba-2fc9-4e82-9226-bed1f112894a",
      "metadata": {
        "id": "4e9a88ba-2fc9-4e82-9226-bed1f112894a"
      },
      "source": [
        "## CTC Loss\n",
        "---\n",
        "### Short Explaination:\n",
        "**The *Connectionist Temporal Classification*(CTC) loss is used for seq2seq tasks.** <br>\n",
        "In this case, the **CTC Loss** will take the ***Predicted Sequence of Characters*** and the ***label*** and calculates how far are they from each other. <br>\n",
        "The **other task** of CTC is to align the the length of predicted sequence and the label by addin blank spaces.\n",
        "\n",
        "---\n",
        "### Implementation:\n",
        "A class named `CTCLayer` is going to be defined. The input length and the predicted length are going to be taken. Then the loss"
      ]
    },
    {
      "cell_type": "code",
      "execution_count": 28,
      "id": "2340b420-f9de-4f1d-924c-505658e7fe1a",
      "metadata": {
        "id": "2340b420-f9de-4f1d-924c-505658e7fe1a"
      },
      "outputs": [],
      "source": [
        "class CTCLayer(Layer):\n",
        "    def __init__(self, **kwargs) -> None:\n",
        "        super().__init__(**kwargs)\n",
        "\n",
        "        # define the loss function\n",
        "        self.loss_function = tf.keras.backend.ctc_batch_cost\n",
        "\n",
        "    def call(self, y_true, y_hat):\n",
        "        # Get the batch length\n",
        "        batch_len = tf.cast(tf.shape(y_true)[0], dtype=\"int64\")\n",
        "\n",
        "        # get the input and label lengths\n",
        "        input_len = tf.cast(tf.shape(y_hat)[1], dtype='int64') * tf.ones(shape=(batch_len, 1), dtype='int64')\n",
        "        label_len = tf.cast(tf.shape(y_true)[1], dtype='int64') * tf.ones(shape=(batch_len, 1), dtype='int64')\n",
        "\n",
        "        # calculate the loss\n",
        "        loss = self.loss_function(y_true, y_hat, input_len, label_len)\n",
        "\n",
        "        self.add_loss(loss)\n",
        "\n",
        "        return y_hat"
      ]
    },
    {
      "cell_type": "markdown",
      "id": "c777808e-b94b-479d-8dfa-ee057619f86f",
      "metadata": {
        "id": "c777808e-b94b-479d-8dfa-ee057619f86f"
      },
      "source": [
        "## Model Creation\n",
        "The model used is a Encoder-Decoder Model which means it is a combinatio of CNN and RNN. <br>\n",
        "\n",
        "---\n",
        "\n",
        "#### Model Architecture:\n",
        "The model has 2 Convolutional layers followed by MaxPools. <br>\n",
        "The encoding space has one Dense layer. The Decoder network is consist of 2 Bidirectional LSTM layers."
      ]
    },
    {
      "cell_type": "code",
      "execution_count": 29,
      "id": "52ec4b61-d2c6-45fa-a4a5-24eef0420af2",
      "metadata": {
        "scrolled": true,
        "colab": {
          "base_uri": "https://localhost:8080/"
        },
        "id": "52ec4b61-d2c6-45fa-a4a5-24eef0420af2",
        "outputId": "8ae94fae-5408-41ad-836e-69656405e4b5"
      },
      "outputs": [
        {
          "output_type": "stream",
          "name": "stdout",
          "text": [
            "Model: \"model\"\n",
            "__________________________________________________________________________________________________\n",
            " Layer (type)                Output Shape                 Param #   Connected to                  \n",
            "==================================================================================================\n",
            " image (InputLayer)          [(None, 200, 50, 1)]         0         []                            \n",
            "                                                                                                  \n",
            " conv_1 (Conv2D)             (None, 200, 50, 64)          640       ['image[0][0]']               \n",
            "                                                                                                  \n",
            " max_pooling2d (MaxPooling2  (None, 100, 25, 64)          0         ['conv_1[0][0]']              \n",
            " D)                                                                                               \n",
            "                                                                                                  \n",
            " conv_2 (Conv2D)             (None, 100, 25, 32)          18464     ['max_pooling2d[0][0]']       \n",
            "                                                                                                  \n",
            " reshape_layer (Reshape)     (None, 100, 800)             0         ['conv_2[0][0]']              \n",
            "                                                                                                  \n",
            " enconding_dense (Dense)     (None, 100, 64)              51264     ['reshape_layer[0][0]']       \n",
            "                                                                                                  \n",
            " enconding_dense_2 (Dense)   (None, 100, 64)              4160      ['enconding_dense[0][0]']     \n",
            "                                                                                                  \n",
            " dropout (Dropout)           (None, 100, 64)              0         ['enconding_dense_2[0][0]']   \n",
            "                                                                                                  \n",
            " bidirectional_lstm_1 (Bidi  (None, 100, 256)             197632    ['dropout[0][0]']             \n",
            " rectional)                                                                                       \n",
            "                                                                                                  \n",
            " bidirectional_lstm_2 (Bidi  (None, 100, 128)             164352    ['bidirectional_lstm_1[0][0]']\n",
            " rectional)                                                                                       \n",
            "                                                                                                  \n",
            " label (InputLayer)          [(None, None)]               0         []                            \n",
            "                                                                                                  \n",
            " output_dense (Dense)        (None, 100, 68)              8772      ['bidirectional_lstm_2[0][0]']\n",
            "                                                                                                  \n",
            " ctc_layer (CTCLayer)        (None, 100, 68)              0         ['label[0][0]',               \n",
            "                                                                     'output_dense[0][0]']        \n",
            "                                                                                                  \n",
            "==================================================================================================\n",
            "Total params: 445284 (1.70 MB)\n",
            "Trainable params: 445284 (1.70 MB)\n",
            "Non-trainable params: 0 (0.00 Byte)\n",
            "__________________________________________________________________________________________________\n"
          ]
        }
      ],
      "source": [
        "# # Input Layer\n",
        "# input_images = Input(shape=(IMG_WIDTH, IMG_HEIGHT, 1), name=\"image\")\n",
        "\n",
        "# # Labels : These are added for the training purpose.\n",
        "# input_labels = Input(shape=(None, ), name=\"label\")\n",
        "\n",
        "# ### Convolutional layers\n",
        "# # layer 1\n",
        "# conv_1 = Conv2D(64, 3, strides=1, padding=\"same\", kernel_initializer=\"he_normal\", activation=\"relu\", name=\"conv_1\")(input_images)\n",
        "# # layer 2\n",
        "# conv_2 = Conv2D(32, 3, strides=1, padding=\"same\", kernel_initializer=\"he_normal\", activation=\"relu\", name=\"conv_2\")(conv_1)\n",
        "# max_pool_1 = MaxPool2D(pool_size=(2, 2), strides=(2, 2))(conv_2)\n",
        "# # layer 3\n",
        "# conv_3 = Conv2D(64, 3, strides=1, padding='same', activation='relu', kernel_initializer='he_normal', name=\"conv_3\")(max_pool_1)\n",
        "# conv_4 = Conv2D(32, 3, strides=1, padding='same', activation='relu', kernel_initializer='he_normal', name=\"conv_4\")(conv_3)\n",
        "# max_pool_2 = MaxPool2D(pool_size=(2, 2), strides=(2, 2))(conv_4)\n",
        "\n",
        "\n",
        "\n",
        "# ### Encoding\n",
        "# reshape = Reshape(target_shape=((IMG_WIDTH//4), (IMG_HEIGHT//4)*32), name=\"reshape_layer\")(max_pool_2)\n",
        "# dense_encoding = Dense(64, kernel_initializer=\"he_normal\", activation=\"relu\", name=\"enconding_dense\")(reshape)\n",
        "# dense_encoding_2 = Dense(64, kernel_initializer=\"he_normal\", activation=\"relu\", name=\"enconding_dense_2\")(dense_encoding)\n",
        "# dropout = Dropout(0.4)(dense_encoding_2)\n",
        "\n",
        "# # Decoder\n",
        "# lstm_1 = Bidirectional(LSTM(128, return_sequences=True, dropout=0.25), name=\"bidirectional_lstm_1\")(dropout)\n",
        "# lstm_2 = Bidirectional(LSTM(64, return_sequences=True, dropout=0.25), name=\"bidirectional_lstm_2\")(lstm_1)\n",
        "\n",
        "# # Final Output layer\n",
        "# output = Dense(len(char_to_num.get_vocabulary())+1, activation=\"softmax\", name=\"output_dense\")(lstm_2)\n",
        "\n",
        "# # Add the CTC loss\n",
        "# ctc_loss_layer = CTCLayer()(input_labels, output)\n",
        "\n",
        "# # Define the final model\n",
        "# model = Model(inputs=[input_images, input_labels], outputs=[ctc_loss_layer])\n",
        "# model.summary()\n",
        "\n",
        "# Input Layer\n",
        "input_images = Input(shape=(IMG_WIDTH, IMG_HEIGHT, 1), name=\"image\")\n",
        "\n",
        "# Labels : These are added for the training purpose.\n",
        "input_labels = Input(shape=(None, ), name=\"label\")\n",
        "\n",
        "### Convolutional layers\n",
        "# layer 1\n",
        "conv_1 = Conv2D(64, 3, strides=1, padding=\"same\", kernel_initializer=\"he_normal\", activation=\"relu\", name=\"conv_1\")(input_images)\n",
        "max_pool_1 = MaxPool2D(pool_size=(2, 2), strides=(2, 2))(conv_1)\n",
        "\n",
        "# layer 2\n",
        "conv_2 = Conv2D(32, 3, strides=1, padding=\"same\", kernel_initializer=\"he_normal\", activation=\"relu\", name=\"conv_2\")(max_pool_1)\n",
        "\n",
        "### Encoding\n",
        "reshape = Reshape(target_shape=((IMG_WIDTH//2), (IMG_HEIGHT//2)*32), name=\"reshape_layer\")(conv_2)\n",
        "dense_encoding = Dense(64, kernel_initializer=\"he_normal\", activation=\"relu\", name=\"enconding_dense\")(reshape)\n",
        "dense_encoding_2 = Dense(64, kernel_initializer=\"he_normal\", activation=\"relu\", name=\"enconding_dense_2\")(dense_encoding)\n",
        "dropout = Dropout(0.4)(dense_encoding_2)\n",
        "\n",
        "# Decoder\n",
        "lstm_1 = Bidirectional(LSTM(128, return_sequences=True, dropout=0.25), name=\"bidirectional_lstm_1\")(dropout)\n",
        "lstm_2 = Bidirectional(LSTM(64, return_sequences=True, dropout=0.25), name=\"bidirectional_lstm_2\")(lstm_1)\n",
        "\n",
        "# Final Output layer\n",
        "output = Dense(len(char_to_num.get_vocabulary())+1, activation=\"softmax\", name=\"output_dense\")(lstm_2)\n",
        "\n",
        "# Add the CTC loss\n",
        "ctc_loss_layer = CTCLayer()(input_labels, output)\n",
        "\n",
        "# Define the final model\n",
        "model = Model(inputs=[input_images, input_labels], outputs=[ctc_loss_layer])\n",
        "model.summary()\n"
      ]
    },
    {
      "cell_type": "code",
      "execution_count": 30,
      "id": "c6ffe1b2-e67f-4dec-8ca3-921c28189de3",
      "metadata": {
        "colab": {
          "base_uri": "https://localhost:8080/",
          "height": 1000
        },
        "id": "c6ffe1b2-e67f-4dec-8ca3-921c28189de3",
        "outputId": "c6d5f3ee-f187-45a4-c5fa-cdacbbb6d87f"
      },
      "outputs": [
        {
          "output_type": "execute_result",
          "data": {
            "image/png": "[encoded data removed]",
            "text/plain": [
              "<IPython.core.display.Image object>"
            ]
          },
          "metadata": {},
          "execution_count": 30
        }
      ],
      "source": [
        "# draw the model plot\n",
        "tf.keras.utils.plot_model(\n",
        "    model,\n",
        "    to_file='model-graph.png'\n",
        ")"
      ]
    },
    {
      "cell_type": "markdown",
      "id": "bd1abb21-fdf5-48ae-a80c-62fc6dae03ca",
      "metadata": {
        "id": "bd1abb21-fdf5-48ae-a80c-62fc6dae03ca"
      },
      "source": [
        "### Model Training"
      ]
    },
    {
      "cell_type": "code",
      "execution_count": 31,
      "id": "ebb263a3-9c18-421b-9cbc-1826f13481bb",
      "metadata": {
        "id": "ebb263a3-9c18-421b-9cbc-1826f13481bb"
      },
      "outputs": [],
      "source": [
        "# compile the model\n",
        "model.compile(optimizer=\"adam\")"
      ]
    },
    {
      "cell_type": "code",
      "source": [
        "# import pandas as pd\n",
        "# import os\n",
        "# from tensorflow.keras.preprocessing.image import ImageDataGenerator\n",
        "# from tensorflow.keras.callbacks import ModelCheckpoint, EarlyStopping\n",
        "\n",
        "# # Load CSV files containing file names for training and validation\n",
        "# train_csv_file_path = '/content/train.csv'  # Replace with your train CSV file path\n",
        "# valid_csv_file_path = '/content/validate.csv'  # Replace with your validation CSV file path\n",
        "\n",
        "# train_data = pd.read_csv(train_csv_file_path)\n",
        "# valid_data = pd.read_csv(valid_csv_file_path)\n",
        "\n",
        "# # Directories containing images for training and validation\n",
        "# train_image_directory = '/content/images/train'  # Replace with your train image directory path\n",
        "# valid_image_directory = '/content/images/validate'  # Replace with your validation image directory path\n",
        "\n",
        "# # Filter out file names that are not available in the image directories for training data\n",
        "# train_existing_files = []\n",
        "# for file_name in train_data['FILENAME']:\n",
        "#     if os.path.exists(os.path.join(train_image_directory, file_name)):\n",
        "#         train_existing_files.append(file_name)\n",
        "\n",
        "# train_data = train_data[train_data['FILENAME'].isin(train_existing_files)]\n",
        "\n",
        "# # Filter out file names that are not available in the image directories for validation data\n",
        "# valid_existing_files = []\n",
        "# for file_name in valid_data['FILENAME']:\n",
        "#     if os.path.exists(os.path.join(valid_image_directory, file_name)):\n",
        "#         valid_existing_files.append(file_name)\n",
        "\n",
        "# valid_data = valid_data[valid_data['FILENAME'].isin(valid_existing_files)]\n",
        "\n",
        "# # Create ImageDataGenerators for training and validation\n",
        "# train_datagen = ImageDataGenerator(rescale=1./255)\n",
        "# valid_datagen = ImageDataGenerator(rescale=1./255)\n",
        "\n",
        "# # Create train and validation data generators using flow_from_dataframe\n",
        "# train_ds = train_datagen.flow_from_dataframe(\n",
        "#     dataframe=train_data,\n",
        "#     directory=train_image_directory,\n",
        "#     x_col=\"FILENAME\",  # Replace with the column name containing file names in your train CSV\n",
        "#     y_col=\"IDENTITY\",  # Replace with your label column name in train CSV\n",
        "#     batch_size=32,\n",
        "#     seed=42,\n",
        "#     shuffle=True,\n",
        "#     class_mode=\"categorical\",  # Adjust based on your task\n",
        "#     # target_size=(image_height, image_width)  # Specify your image dimensions\n",
        "# )\n",
        "\n",
        "# valid_ds = valid_datagen.flow_from_dataframe(\n",
        "#     dataframe=valid_data,\n",
        "#     directory=valid_image_directory,\n",
        "#     x_col=\"FILENAME\",  # Replace with the column name containing file names in your validation CSV\n",
        "#     y_col=\"IDENTITY\",  # Replace with your label column name in validation CSV\n",
        "#     batch_size=32,\n",
        "#     seed=42,\n",
        "#     shuffle=True,\n",
        "#     class_mode=\"categorical\",  # Adjust based on your task\n",
        "#     # target_size=(image_height, image_width)  # Specify your image dimensions\n",
        "# )\n",
        "\n",
        "# # Define other necessary parameters (EPOCHS, CALLBACKS, etc.)\n",
        "# EPOCHS = 10  # Replace with the desired number of epochs\n",
        "# CALLBACKS = [ModelCheckpoint(filepath='model.h5', save_best_only=True), EarlyStopping(patience=3)]\n"
      ],
      "metadata": {
        "id": "FuHa-epz3o7s"
      },
      "id": "FuHa-epz3o7s",
      "execution_count": 32,
      "outputs": []
    },
    {
      "cell_type": "code",
      "execution_count": 33,
      "id": "3d3a0e92-a451-4a1a-b32a-8de39877e2ce",
      "metadata": {
        "colab": {
          "base_uri": "https://localhost:8080/"
        },
        "id": "3d3a0e92-a451-4a1a-b32a-8de39877e2ce",
        "outputId": "e17db6ad-f5fc-4e48-9b25-ac93b6e18e59"
      },
      "outputs": [
        {
          "output_type": "stream",
          "name": "stdout",
          "text": [
            "Epoch 1/150\n",
            "272/272 [==============================] - 338s 1s/step - loss: 57.1404 - val_loss: 47.0852\n"
          ]
        },
        {
          "output_type": "stream",
          "name": "stderr",
          "text": [
            "/usr/local/lib/python3.10/dist-packages/keras/src/engine/training.py:3103: UserWarning: You are saving your model as an HDF5 file via `model.save()`. This file format is considered legacy. We recommend using instead the native Keras format, e.g. `model.save('my_model.keras')`.\n",
            "  saving_api.save_model(\n"
          ]
        },
        {
          "output_type": "stream",
          "name": "stdout",
          "text": [
            "Epoch 2/150\n",
            "272/272 [==============================] - 108s 399ms/step - loss: 47.2059 - val_loss: 45.2872\n",
            "Epoch 3/150\n",
            "272/272 [==============================] - 105s 386ms/step - loss: 45.9106 - val_loss: 45.2673\n",
            "Epoch 4/150\n",
            "272/272 [==============================] - 107s 392ms/step - loss: 44.1297 - val_loss: 43.2990\n",
            "Epoch 5/150\n",
            "272/272 [==============================] - 105s 386ms/step - loss: 42.9063 - val_loss: 42.0884\n",
            "Epoch 6/150\n",
            "272/272 [==============================] - 107s 393ms/step - loss: 41.5531 - val_loss: 41.1561\n",
            "Epoch 7/150\n",
            "272/272 [==============================] - 106s 388ms/step - loss: 40.4969 - val_loss: 40.9837\n",
            "Epoch 8/150\n",
            "272/272 [==============================] - 106s 389ms/step - loss: 39.7160 - val_loss: 40.2602\n",
            "Epoch 9/150\n",
            "272/272 [==============================] - 106s 389ms/step - loss: 38.7658 - val_loss: 40.0171\n",
            "Epoch 10/150\n",
            "272/272 [==============================] - 106s 391ms/step - loss: 37.7350 - val_loss: 38.4403\n",
            "Epoch 11/150\n",
            "272/272 [==============================] - 105s 386ms/step - loss: 36.3236 - val_loss: 37.1739\n",
            "Epoch 12/150\n",
            "272/272 [==============================] - 105s 387ms/step - loss: 34.8072 - val_loss: 35.5841\n",
            "Epoch 13/150\n",
            "272/272 [==============================] - 106s 389ms/step - loss: 32.9267 - val_loss: 34.2330\n",
            "Epoch 14/150\n",
            "272/272 [==============================] - 106s 389ms/step - loss: 30.9653 - val_loss: 32.4245\n",
            "Epoch 15/150\n",
            "272/272 [==============================] - 109s 400ms/step - loss: 28.9536 - val_loss: 30.8480\n",
            "Epoch 16/150\n",
            "272/272 [==============================] - 117s 430ms/step - loss: 27.1771 - val_loss: 29.6938\n",
            "Epoch 17/150\n",
            "272/272 [==============================] - 112s 411ms/step - loss: 25.4214 - val_loss: 28.3568\n",
            "Epoch 18/150\n",
            "272/272 [==============================] - 107s 394ms/step - loss: 23.7024 - val_loss: 26.9463\n",
            "Epoch 19/150\n",
            "272/272 [==============================] - 106s 389ms/step - loss: 22.0410 - val_loss: 26.1052\n",
            "Epoch 20/150\n",
            "272/272 [==============================] - 107s 392ms/step - loss: 20.5763 - val_loss: 24.8369\n",
            "Epoch 21/150\n",
            "272/272 [==============================] - 108s 396ms/step - loss: 19.3386 - val_loss: 24.5669\n",
            "Epoch 22/150\n",
            "272/272 [==============================] - 108s 396ms/step - loss: 18.2009 - val_loss: 23.1879\n",
            "Epoch 23/150\n",
            "272/272 [==============================] - 107s 392ms/step - loss: 16.7189 - val_loss: 22.6647\n",
            "Epoch 24/150\n",
            "272/272 [==============================] - 108s 396ms/step - loss: 15.8714 - val_loss: 21.0823\n",
            "Epoch 25/150\n",
            "272/272 [==============================] - 107s 394ms/step - loss: 15.1392 - val_loss: 20.6431\n",
            "Epoch 26/150\n",
            "272/272 [==============================] - 104s 381ms/step - loss: 14.2153 - val_loss: 20.8388\n",
            "Epoch 27/150\n",
            "272/272 [==============================] - 107s 392ms/step - loss: 13.4238 - val_loss: 19.9718\n",
            "Epoch 28/150\n",
            "272/272 [==============================] - 107s 392ms/step - loss: 12.8179 - val_loss: 20.5972\n",
            "Epoch 29/150\n",
            "272/272 [==============================] - 107s 391ms/step - loss: 12.1662 - val_loss: 19.8646\n",
            "Epoch 30/150\n",
            "272/272 [==============================] - 105s 387ms/step - loss: 11.5496 - val_loss: 20.4851\n",
            "Epoch 31/150\n",
            "272/272 [==============================] - 107s 395ms/step - loss: 11.3028 - val_loss: 19.3178\n",
            "Epoch 32/150\n",
            "272/272 [==============================] - 106s 388ms/step - loss: 10.7079 - val_loss: 19.0635\n",
            "Epoch 33/150\n",
            "272/272 [==============================] - 106s 391ms/step - loss: 10.2683 - val_loss: 19.0915\n",
            "Epoch 34/150\n",
            "272/272 [==============================] - 108s 396ms/step - loss: 9.8182 - val_loss: 18.9216\n",
            "Epoch 35/150\n",
            "272/272 [==============================] - 107s 392ms/step - loss: 9.4451 - val_loss: 18.3199\n",
            "Epoch 36/150\n",
            "272/272 [==============================] - 104s 381ms/step - loss: 9.1058 - val_loss: 18.6946\n",
            "Epoch 37/150\n",
            "272/272 [==============================] - 107s 392ms/step - loss: 8.9374 - val_loss: 19.6153\n",
            "Epoch 38/150\n",
            "272/272 [==============================] - 104s 383ms/step - loss: 8.3469 - val_loss: 19.7347\n",
            "Epoch 39/150\n",
            "272/272 [==============================] - 105s 387ms/step - loss: 8.0101 - val_loss: 19.4693\n",
            "Epoch 40/150\n",
            "272/272 [==============================] - 103s 380ms/step - loss: 8.0030 - val_loss: 19.6295\n",
            "Epoch 41/150\n",
            "272/272 [==============================] - 109s 401ms/step - loss: 7.6927 - val_loss: 19.0214\n",
            "Epoch 42/150\n",
            "272/272 [==============================] - 108s 398ms/step - loss: 7.3901 - val_loss: 19.1353\n",
            "Epoch 43/150\n",
            "272/272 [==============================] - 107s 394ms/step - loss: 7.1380 - val_loss: 19.6294\n",
            "Epoch 44/150\n",
            "272/272 [==============================] - 103s 380ms/step - loss: 6.7536 - val_loss: 19.9388\n",
            "Epoch 45/150\n",
            "272/272 [==============================] - 106s 388ms/step - loss: 6.6491 - val_loss: 18.7655\n"
          ]
        }
      ],
      "source": [
        "# train the model\n",
        "history = model.fit(train_ds, validation_data=valid_ds, epochs=EPOCHS, callbacks=CALLBACKS)"
      ]
    },
    {
      "cell_type": "code",
      "execution_count": 34,
      "id": "a377fbff-3b18-4fd1-95a9-f461b049d960",
      "metadata": {
        "id": "a377fbff-3b18-4fd1-95a9-f461b049d960",
        "colab": {
          "base_uri": "https://localhost:8080/",
          "height": 498
        },
        "outputId": "0a4e3074-cc25-4545-ca48-03e4e6186224"
      },
      "outputs": [
        {
          "output_type": "display_data",
          "data": {
            "text/plain": [
              "<Figure size 800x500 with 1 Axes>"
            ],
            "image/png": "[encoded data removed]"
          },
          "metadata": {}
        }
      ],
      "source": [
        "import seaborn as sb\n",
        "# draw plot for results\n",
        "sb.set()\n",
        "pd.DataFrame(history.history).plot(figsize=(8,5))\n",
        "plt.legend(fontsize=15)\n",
        "plt.xlabel(\"Epochs\")\n",
        "plt.ylabel(\"CTC Loss Score\")\n",
        "plt.title(\"Training and Validation Losses\", fontsize=15)\n",
        "plt.grid()\n",
        "plt.savefig(\"model_result.png\")\n",
        "plt.show()"
      ]
    },
    {
      "cell_type": "markdown",
      "id": "d271fd22-e171-46c8-b16a-5ae6326815a3",
      "metadata": {
        "id": "d271fd22-e171-46c8-b16a-5ae6326815a3"
      },
      "source": [
        "## Testing and Evaluation"
      ]
    },
    {
      "cell_type": "code",
      "execution_count": 35,
      "id": "a66566b3-cd12-47c9-935d-14693748e98e",
      "metadata": {
        "id": "a66566b3-cd12-47c9-935d-14693748e98e",
        "colab": {
          "base_uri": "https://localhost:8080/"
        },
        "outputId": "3a33a548-e037-4ce6-8811-5e27193f75f4"
      },
      "outputs": [
        {
          "output_type": "stream",
          "name": "stdout",
          "text": [
            "60/60 [==============================] - 55s 917ms/step - loss: 5.8374\n",
            "evaluation loss: 5.83738899230957\n"
          ]
        }
      ],
      "source": [
        "# evaluate the model on the test dataset\n",
        "evaluation = model.evaluate(test_ds)\n",
        "print(f\"evaluation loss: {evaluation}\")"
      ]
    },
    {
      "cell_type": "code",
      "execution_count": 36,
      "id": "1fa5891c-ac9d-4a0c-a186-4aef163dfe45",
      "metadata": {
        "id": "1fa5891c-ac9d-4a0c-a186-4aef163dfe45"
      },
      "outputs": [],
      "source": [
        "def decoder_prediction(pred_label):\n",
        "    \"\"\"\n",
        "    This function has the job to decode the prediction that the model had.\n",
        "    The model predicts each character and then this function makes it readable.\n",
        "    \"\"\"\n",
        "    # Input length\n",
        "    input_len = np.ones(shape=pred_label.shape[0]) * pred_label.shape[1]\n",
        "\n",
        "    # CTC decode\n",
        "    decode = tf.keras.backend.ctc_decode(pred_label, input_length=input_len, greedy=True)[0][0][:,:MAX_LABEL_LENGTH]\n",
        "\n",
        "    # Converting numerics back to their character values\n",
        "    chars = num_to_char(decode)\n",
        "\n",
        "    # Join all the characters\n",
        "    texts = [tf.strings.reduce_join(inputs=char).numpy().decode('UTF-8') for char in chars]\n",
        "\n",
        "    # Remove the unknown token\n",
        "    filtered_texts = [text.replace('[UNK]', \" \").strip() for text in texts]\n",
        "\n",
        "    return filtered_texts"
      ]
    },
    {
      "cell_type": "code",
      "execution_count": 37,
      "id": "5e5db624-d8da-4cef-9999-7e5c11b5dc72",
      "metadata": {
        "id": "5e5db624-d8da-4cef-9999-7e5c11b5dc72"
      },
      "outputs": [],
      "source": [
        "# define a model for testing and evaluation\n",
        "pred_model = Model(inputs=model.get_layer(name=\"image\").input, outputs=model.get_layer(name='output_dense').output)"
      ]
    },
    {
      "cell_type": "code",
      "execution_count": 38,
      "id": "8cf4e5f8-4932-4557-aae3-ec26d09eaf3b",
      "metadata": {
        "id": "8cf4e5f8-4932-4557-aae3-ec26d09eaf3b",
        "colab": {
          "base_uri": "https://localhost:8080/",
          "height": 268
        },
        "outputId": "ea12bed7-1766-4d34-a163-a48a4d0d2292"
      },
      "outputs": [
        {
          "output_type": "display_data",
          "data": {
            "text/plain": [
              "<Figure size 2500x800 with 8 Axes>"
            ],
            "image/png": "[encoded data removed]"
          },
          "metadata": {}
        }
      ],
      "source": [
        "show_images(data=test_ds, model=pred_model, decode_pred=decoder_prediction, cmap='binary')"
      ]
    },
    {
      "cell_type": "markdown",
      "id": "c918740a-7e7e-4342-b761-50334f311144",
      "metadata": {
        "id": "c918740a-7e7e-4342-b761-50334f311144"
      },
      "source": [
        "### Single Sample prediction"
      ]
    },
    {
      "cell_type": "code",
      "execution_count": 39,
      "id": "59e39035-e27a-4016-8759-ef27224abd7c",
      "metadata": {
        "id": "59e39035-e27a-4016-8759-ef27224abd7c"
      },
      "outputs": [],
      "source": [
        "def single_sample_prediction(model, path):\n",
        "    \"\"\"\n",
        "    This function gets an image path and the model,\n",
        "    Loads and preprocesses the image and make predictions on it.\n",
        "    \"\"\"\n",
        "    # load image\n",
        "    image_loading = tf.io.read_file(path)\n",
        "    # decode image\n",
        "    decoded_image = tf.image.decode_jpeg(contents=image_loading, channels=1)\n",
        "    # convert the image data type to float\n",
        "    convert_image = tf.image.convert_image_dtype(image=decoded_image, dtype=tf.float32)\n",
        "    # resize the image\n",
        "    resized_image = tf.image.resize(images=convert_image, size=(IMG_HEIGHT, IMG_WIDTH))\n",
        "    resized_image = tf.transpose(resized_image, perm = [1, 0, 2])\n",
        "    # convert image to array\n",
        "    image_array = tf.cast(resized_image, dtype=tf.float32)\n",
        "    # reshape image\n",
        "    single_image_data_with_batch = np.expand_dims(image_array, axis=0)\n",
        "\n",
        "    # make prediction\n",
        "    prediction = decoder_prediction(model.predict(single_image_data_with_batch))\n",
        "\n",
        "    return prediction"
      ]
    },
    {
      "cell_type": "code",
      "execution_count": 40,
      "id": "c7d25101-2140-4f5e-ae17-23d1670c6152",
      "metadata": {
        "id": "c7d25101-2140-4f5e-ae17-23d1670c6152",
        "colab": {
          "base_uri": "https://localhost:8080/",
          "height": 390
        },
        "outputId": "85a3a4ba-2ae7-4535-ab3f-2c9957f179b4"
      },
      "outputs": [
        {
          "output_type": "error",
          "ename": "FileNotFoundError",
          "evalue": "[Errno 2] No such file or directory: '/content/images/test/(a) Oxytetracyclline-2.png'",
          "traceback": [
            "\u001b[0;31m---------------------------------------------------------------------------\u001b[0m",
            "\u001b[0;31mFileNotFoundError\u001b[0m                         Traceback (most recent call last)",
            "\u001b[0;32m<ipython-input-40-9141cf6ac180>\u001b[0m in \u001b[0;36m<cell line: 3>\u001b[0;34m()\u001b[0m\n\u001b[1;32m      1\u001b[0m \u001b[0;31m# prediction 1:\u001b[0m\u001b[0;34m\u001b[0m\u001b[0;34m\u001b[0m\u001b[0m\n\u001b[1;32m      2\u001b[0m \u001b[0mimg_1_path\u001b[0m \u001b[0;34m=\u001b[0m \u001b[0;34m\"/content/images/test/(a) Oxytetracyclline-2.png\"\u001b[0m\u001b[0;34m\u001b[0m\u001b[0;34m\u001b[0m\u001b[0m\n\u001b[0;32m----> 3\u001b[0;31m \u001b[0mimg_1\u001b[0m \u001b[0;34m=\u001b[0m \u001b[0mimplt\u001b[0m\u001b[0;34m.\u001b[0m\u001b[0mimread\u001b[0m\u001b[0;34m(\u001b[0m\u001b[0mimg_1_path\u001b[0m\u001b[0;34m)\u001b[0m\u001b[0;34m\u001b[0m\u001b[0;34m\u001b[0m\u001b[0m\n\u001b[0m\u001b[1;32m      4\u001b[0m \u001b[0mplt\u001b[0m\u001b[0;34m.\u001b[0m\u001b[0mimshow\u001b[0m\u001b[0;34m(\u001b[0m\u001b[0mimg_1\u001b[0m\u001b[0;34m)\u001b[0m\u001b[0;34m\u001b[0m\u001b[0;34m\u001b[0m\u001b[0m\n\u001b[1;32m      5\u001b[0m \u001b[0mprint\u001b[0m\u001b[0;34m(\u001b[0m\u001b[0msingle_sample_prediction\u001b[0m\u001b[0;34m(\u001b[0m\u001b[0mpred_model\u001b[0m\u001b[0;34m,\u001b[0m \u001b[0mimg_1_path\u001b[0m\u001b[0;34m)\u001b[0m\u001b[0;34m)\u001b[0m\u001b[0;34m\u001b[0m\u001b[0;34m\u001b[0m\u001b[0m\n",
            "\u001b[0;32m/usr/local/lib/python3.10/dist-packages/matplotlib/image.py\u001b[0m in \u001b[0;36mimread\u001b[0;34m(fname, format)\u001b[0m\n\u001b[1;32m   1561\u001b[0m             \u001b[0;34m\"``np.array(PIL.Image.open(urllib.request.urlopen(url)))``.\"\u001b[0m\u001b[0;34m\u001b[0m\u001b[0;34m\u001b[0m\u001b[0m\n\u001b[1;32m   1562\u001b[0m             )\n\u001b[0;32m-> 1563\u001b[0;31m     \u001b[0;32mwith\u001b[0m \u001b[0mimg_open\u001b[0m\u001b[0;34m(\u001b[0m\u001b[0mfname\u001b[0m\u001b[0;34m)\u001b[0m \u001b[0;32mas\u001b[0m \u001b[0mimage\u001b[0m\u001b[0;34m:\u001b[0m\u001b[0;34m\u001b[0m\u001b[0;34m\u001b[0m\u001b[0m\n\u001b[0m\u001b[1;32m   1564\u001b[0m         return (_pil_png_to_float_array(image)\n\u001b[1;32m   1565\u001b[0m                 \u001b[0;32mif\u001b[0m \u001b[0misinstance\u001b[0m\u001b[0;34m(\u001b[0m\u001b[0mimage\u001b[0m\u001b[0;34m,\u001b[0m \u001b[0mPIL\u001b[0m\u001b[0;34m.\u001b[0m\u001b[0mPngImagePlugin\u001b[0m\u001b[0;34m.\u001b[0m\u001b[0mPngImageFile\u001b[0m\u001b[0;34m)\u001b[0m \u001b[0;32melse\u001b[0m\u001b[0;34m\u001b[0m\u001b[0;34m\u001b[0m\u001b[0m\n",
            "\u001b[0;32m/usr/local/lib/python3.10/dist-packages/PIL/ImageFile.py\u001b[0m in \u001b[0;36m__init__\u001b[0;34m(self, fp, filename)\u001b[0m\n\u001b[1;32m    103\u001b[0m         \u001b[0;32mif\u001b[0m \u001b[0mis_path\u001b[0m\u001b[0;34m(\u001b[0m\u001b[0mfp\u001b[0m\u001b[0;34m)\u001b[0m\u001b[0;34m:\u001b[0m\u001b[0;34m\u001b[0m\u001b[0;34m\u001b[0m\u001b[0m\n\u001b[1;32m    104\u001b[0m             \u001b[0;31m# filename\u001b[0m\u001b[0;34m\u001b[0m\u001b[0;34m\u001b[0m\u001b[0m\n\u001b[0;32m--> 105\u001b[0;31m             \u001b[0mself\u001b[0m\u001b[0;34m.\u001b[0m\u001b[0mfp\u001b[0m \u001b[0;34m=\u001b[0m \u001b[0mopen\u001b[0m\u001b[0;34m(\u001b[0m\u001b[0mfp\u001b[0m\u001b[0;34m,\u001b[0m \u001b[0;34m\"rb\"\u001b[0m\u001b[0;34m)\u001b[0m\u001b[0;34m\u001b[0m\u001b[0;34m\u001b[0m\u001b[0m\n\u001b[0m\u001b[1;32m    106\u001b[0m             \u001b[0mself\u001b[0m\u001b[0;34m.\u001b[0m\u001b[0mfilename\u001b[0m \u001b[0;34m=\u001b[0m \u001b[0mfp\u001b[0m\u001b[0;34m\u001b[0m\u001b[0;34m\u001b[0m\u001b[0m\n\u001b[1;32m    107\u001b[0m             \u001b[0mself\u001b[0m\u001b[0;34m.\u001b[0m\u001b[0m_exclusive_fp\u001b[0m \u001b[0;34m=\u001b[0m \u001b[0;32mTrue\u001b[0m\u001b[0;34m\u001b[0m\u001b[0;34m\u001b[0m\u001b[0m\n",
            "\u001b[0;31mFileNotFoundError\u001b[0m: [Errno 2] No such file or directory: '/content/images/test/(a) Oxytetracyclline-2.png'"
          ]
        }
      ],
      "source": [
        "# prediction 1:\n",
        "img_1_path = \"/content/images/test/(a) Oxytetracyclline-2.png\"\n",
        "img_1 = implt.imread(img_1_path)\n",
        "plt.imshow(img_1)\n",
        "print(single_sample_prediction(pred_model, img_1_path))"
      ]
    },
    {
      "cell_type": "code",
      "execution_count": null,
      "id": "469167d6-aa84-441a-9dc3-5fa3a5b911f0",
      "metadata": {
        "id": "469167d6-aa84-441a-9dc3-5fa3a5b911f0"
      },
      "outputs": [],
      "source": [
        "# prediction 2:\n",
        "img_2_path = \"/content/images/test/(a) Oxytetracyclline-2.png\"\n",
        "img_2 = implt.imread(img_2_path)\n",
        "plt.imshow(img_2)\n",
        "print(single_sample_prediction(pred_model, img_2_path))"
      ]
    },
    {
      "cell_type": "code",
      "execution_count": null,
      "id": "98f69c9f-3126-4e7a-9710-9e388b686bdd",
      "metadata": {
        "id": "98f69c9f-3126-4e7a-9710-9e388b686bdd"
      },
      "outputs": [],
      "source": [
        "# prediction 3:\n",
        "img_3_path = \"/content/images/test/(c) Doxycycline-1.png\"\n",
        "img_3 = implt.imread(img_3_path)\n",
        "plt.imshow(img_3)\n",
        "print(single_sample_prediction(pred_model, img_3_path))"
      ]
    },
    {
      "cell_type": "markdown",
      "id": "21b7f093-2488-4958-89bb-b1809207e9c4",
      "metadata": {
        "id": "21b7f093-2488-4958-89bb-b1809207e9c4"
      },
      "source": [
        "### Saving the model"
      ]
    },
    {
      "cell_type": "code",
      "execution_count": null,
      "id": "e7f9f361-4110-4572-beea-334da3a7bf59",
      "metadata": {
        "id": "e7f9f361-4110-4572-beea-334da3a7bf59"
      },
      "outputs": [],
      "source": [
        "# save the model\n",
        "model.save(\"model.hd5\")\n",
        "# save weights\n",
        "model.save_weights(\"model_weights.hd5\")"
      ]
    },
    {
      "cell_type": "code",
      "execution_count": null,
      "id": "42563c00-2513-40bc-a4e5-cd46f9797e96",
      "metadata": {
        "id": "42563c00-2513-40bc-a4e5-cd46f9797e96"
      },
      "outputs": [],
      "source": [
        "model.save('my_model.keras')"
      ]
    }
  ],
  "metadata": {
    "kernelspec": {
      "display_name": "Python 3 (ipykernel)",
      "language": "python",
      "name": "python3"
    },
    "language_info": {
      "codemirror_mode": {
        "name": "ipython",
        "version": 3
      },
      "file_extension": ".py",
      "mimetype": "text/x-python",
      "name": "python",
      "nbconvert_exporter": "python",
      "pygments_lexer": "ipython3",
      "version": "3.8.7"
    },
    "colab": {
      "provenance": [],
      "include_colab_link": true
    }
  },
  "nbformat": 4,
  "nbformat_minor": 5
}